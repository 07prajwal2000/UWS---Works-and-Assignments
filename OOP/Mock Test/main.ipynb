{
 "cells": [
  {
   "cell_type": "code",
   "execution_count": 5,
   "metadata": {},
   "outputs": [
    {
     "name": "stdout",
     "output_type": "stream",
     "text": [
      "Contact\n",
      "Name: Prajwal, Phone: 888555222\n",
      "\n",
      "Professional Contact\n",
      "Name: Prajwal Aradhya, Phone: 987456, Job title: Architect, Company: UWS, Professional Email: prajwal@uws.ac.uk\n",
      "\n",
      "Personal Contact\n",
      "Name: Prajwal, Phone: 123456, Birthday: 8th Jul 2000, Personal Email: prajwal@gmail.com\n",
      "\n",
      "After update\n",
      "Personal Contact\n",
      "Name: Prajwal, Phone: 888888888, Birthday: 8th Jul 2000, Personal Email: prajwal@gmail.com\n",
      "\n"
     ]
    }
   ],
   "source": [
    "from contacts import Contact, ProfessionalContact, PersonalContact\n",
    "\n",
    "normal = Contact(\"Prajwal\", 888555222)\n",
    "personal = PersonalContact(\"Prajwal\", 123456, \"8th Jul 2000\", \"prajwal@gmail.com\")\n",
    "professional = ProfessionalContact(\"Prajwal Aradhya\", 987456, \"Architect\", \"UWS\", \"prajwal@uws.ac.uk\")\n",
    "\n",
    "normal.display_info()\n",
    "professional.display_info()\n",
    "personal.display_info()\n",
    "\n",
    "personal.update_phone_number(888888888)\n",
    "print(\"After update\")\n",
    "personal.display_info()"
   ]
  }
 ],
 "metadata": {
  "kernelspec": {
   "display_name": "Python 3",
   "language": "python",
   "name": "python3"
  },
  "language_info": {
   "codemirror_mode": {
    "name": "ipython",
    "version": 3
   },
   "file_extension": ".py",
   "mimetype": "text/x-python",
   "name": "python",
   "nbconvert_exporter": "python",
   "pygments_lexer": "ipython3",
   "version": "3.12.6"
  }
 },
 "nbformat": 4,
 "nbformat_minor": 2
}
