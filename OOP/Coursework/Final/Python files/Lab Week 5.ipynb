{
 "cells": [
  {
   "cell_type": "markdown",
   "metadata": {},
   "source": [
    "# Week 5 Practical Exercises"
   ]
  },
  {
   "cell_type": "markdown",
   "metadata": {},
   "source": [
    "## Inheritance"
   ]
  },
  {
   "cell_type": "code",
   "execution_count": 18,
   "metadata": {},
   "outputs": [
    {
     "name": "stdout",
     "output_type": "stream",
     "text": [
      "The vehicle is moving at 80 km/h\n",
      "The electric car is moving at 95km/h\n",
      "The car is driving at 220 km/h\n",
      "Total fuel capacity 45 ltrs\n",
      "Total seats of petrol car is 4\n"
     ]
    }
   ],
   "source": [
    "# Base class\n",
    "class Vehicle:\n",
    "\tdef __init__(self, colour: str, weight: int, max_speed: int, max_range: int | None = None, seats: int | None = None):\n",
    "\t\tself.colour = colour\n",
    "\t\tself.weight = weight\n",
    "\t\tself.max_speed = max_speed\n",
    "\t\tself.max_range = max_range\n",
    "\t\tself.seats = seats\n",
    "\n",
    "\tdef move(self, speed: int):\n",
    "\t\tprint(f\"The vehicle is moving at {speed} km/h\")\n",
    "\n",
    "\tdef get_total_seats(self):\n",
    "\t\tif self.seats != None:\n",
    "\t\t\treturn self.seats\n",
    "\t\treturn 0\n",
    "\n",
    "# Child class. Car is inherited by Vehicle \n",
    "class Car(Vehicle):\n",
    "\tdef __init__(self, colour: str, weight: int, max_speed: int, car_type: str, max_range = None, seats = None):\n",
    "\t\tsuper().__init__(colour, weight, max_speed, max_range, seats) # parent class constructor\n",
    "\t\tself.seats = seats\n",
    "\n",
    "\tdef move(self, speed: int):\n",
    "\t\tprint(f\"The car is driving at {speed} km/h\")\n",
    "\n",
    "# creating an object from class\n",
    "vehicle = Vehicle(\"green\", 1500, 120)\n",
    "vehicle.move(80) # calling a function associated with class\n",
    "\n",
    "class Electric(Car):\n",
    "\tdef __init__(self, colour: str, weight: int, max_speed: int, car_type: str, battery_capacity: int, **kwargs):\n",
    "\t\tsuper().__init__(colour, weight, max_speed, car_type, **kwargs) # parent class constructor\n",
    "\t\tself.battery_capacity = battery_capacity\n",
    "\n",
    "\t# overriding method\n",
    "\tdef move(self, speed: int):\n",
    "\t\tprint(f\"The electric car is moving at {speed}km/h\")\n",
    "\t\n",
    "\tdef get_battery_percentage(self) :\n",
    "\t\treturn f\"{self.battery_capacity}%\"\n",
    "\t\n",
    "\tdef is_battery_empty(self):\n",
    "\t\treturn self.battery_capacity == 0\n",
    "\n",
    "\n",
    "class Petrol(Car):\n",
    "\tdef __init__(self, colour: str, weight: int, max_speed: int, car_type: str, fuel_capacity: int, **kwargs):\n",
    "\t\tsuper().__init__(colour, weight, max_speed, car_type, **kwargs) # parent class constructor\n",
    "\t\tself.fuel_capacity = fuel_capacity\n",
    "\t\n",
    "\tdef get_fuel_capacity(self):\n",
    "\t\treturn self.fuel_capacity\n",
    "\n",
    "electric_car = Electric(\"yellow\", 1200, 180, \"Sedan\", 1500, max_range=330, seats=4)\n",
    "electric_car.move(95)\n",
    "\n",
    "petrol_car = Petrol(\"green\", 1800, 270, \"SUV\", 45, max_range=845, seats=4)\n",
    "petrol_car.move(220)\n",
    "\n",
    "print(f\"Total fuel capacity {petrol_car.fuel_capacity} ltrs\")\n",
    "print(f\"Total seats of petrol car is {petrol_car.get_total_seats()}\")"
   ]
  },
  {
   "cell_type": "markdown",
   "metadata": {},
   "source": [
    "### Multiple Inheritance"
   ]
  },
  {
   "cell_type": "code",
   "execution_count": 19,
   "metadata": {},
   "outputs": [
    {
     "name": "stdout",
     "output_type": "stream",
     "text": [
      "Frog is swimming under water with 2 fins\n",
      "Frog is walking on the ground with 4 legs\n",
      "Frog is jumping on the ground with 4 limbs\n"
     ]
    }
   ],
   "source": [
    "class Aquatic:\n",
    "\tdef __init__(self, name: str, fins: int):\n",
    "\t\tself.name = name\n",
    "\t\tself.fins = fins\n",
    "\t\tself.type = \"Aquatic\"\n",
    "\n",
    "\tdef swim(self):\n",
    "\t\tprint(f\"{self.name} is swimming under water with {self.fins} fins\")\n",
    "\n",
    "class Reptile:\n",
    "\tdef __init__(self, name: str, limbs: int):\n",
    "\t\tself.name = name\n",
    "\t\tself.limbs = limbs\n",
    "\t\n",
    "\tdef walk(self):\n",
    "\t\tprint(f\"{self.name} is walking on the ground with {self.limbs} legs\")\n",
    "\n",
    "# Frog inherited both aquatic and reptile\n",
    "class Frog(Aquatic, Reptile):\n",
    "\tdef __init__(self):\n",
    "\t\t# calling Aquatic class constructor\n",
    "\t\t# calling Reptile class constructor\n",
    "\t\t# passing name as frog\n",
    "\t\tAquatic.__init__(self, \"Frog\", 2) \n",
    "\t\tReptile.__init__(self, \"Frog\", 4) \n",
    "\t\n",
    "\tdef jump(self):\n",
    "\t\tprint(f\"{self.name} is jumping on the ground with {self.limbs} limbs\")\n",
    "\n",
    "frog1 = Frog()\n",
    "\n",
    "frog1.swim() # this method is from Aquatic class\n",
    "frog1.walk() # this method is from Reptile class\n",
    "frog1.jump() # this method is from Frog class"
   ]
  },
  {
   "cell_type": "markdown",
   "metadata": {},
   "source": [
    "## Polymorphism"
   ]
  },
  {
   "cell_type": "code",
   "execution_count": 15,
   "metadata": {},
   "outputs": [
    {
     "name": "stdout",
     "output_type": "stream",
     "text": [
      "Pre-Defined functions\n",
      "Hello 1234 False\n",
      "Type <class 'int'>\n",
      "Type <class 'str'>\n",
      "Type <class 'bool'>\n",
      "\n",
      "\n",
      "User defined functions\n",
      "Addition of 2 string numbers:  3\n",
      "Addition of 2 string numbers:  30.0\n"
     ]
    }
   ],
   "source": [
    "# pre-defined functions\n",
    "print(\"Pre-Defined functions\") # takes single argument\n",
    "print(\"Hello\", 1234, False) # takes multiple argument with different types\n",
    "# type() function takes many type of arguments\n",
    "print(\"Type\", type(123)) \n",
    "print(\"Type\", type(\"abc\"))\n",
    "print(\"Type\", type(True))\n",
    "\n",
    "def Addition(a, b):\n",
    "\t# check if the parameter is int or float\n",
    "\tif (type(a) == float or type(a) == int) and (type(b) == float or type(b) == int):\n",
    "\t\treturn a + b\n",
    "\t# check if the parameter is string and then convert it to float\n",
    "\telif type(a) == str and type(b) == str and a.isdigit() and b.isdigit():\n",
    "\t\treturn float(a) + float(b)\n",
    "\t# if we don't get required type, returns -1 as an invalid parameter\n",
    "\telse:\n",
    "\t\treturn -1\n",
    "\n",
    "# user defined functions\n",
    "print(\"\\n\\nUser defined functions\")\n",
    "print(\"Addition of 2 string numbers: \", Addition(1, 2))\n",
    "print(\"Addition of 2 string numbers: \", Addition(\"10\", \"20\"))"
   ]
  },
  {
   "cell_type": "markdown",
   "metadata": {},
   "source": [
    "### Kwargs\n",
    "\n",
    "a function defined with **kwargs parameter can take any number of arguments and the type will be dictionary."
   ]
  },
  {
   "cell_type": "code",
   "execution_count": 19,
   "metadata": {},
   "outputs": [
    {
     "name": "stdout",
     "output_type": "stream",
     "text": [
      "Type of **kwargs <class 'dict'>\n",
      "{'name': 'Prajwal', 'age': 24}\n"
     ]
    }
   ],
   "source": [
    "def multiple_args(**kwargs):\n",
    "\tprint(\"Type of **kwargs\", type(kwargs))\n",
    "\tprint(kwargs)\n",
    "\n",
    "multiple_args(name=\"Prajwal\", age=24)\n",
    "\n",
    "\n",
    "def kwargs_syntax(**kwargs):\n",
    "\tprint(kwargs)"
   ]
  },
  {
   "cell_type": "markdown",
   "metadata": {},
   "source": [
    "### Args\n",
    "\n",
    "a function defined with *args parameter can take any number of arguments and the function will receive them as list"
   ]
  },
  {
   "cell_type": "code",
   "execution_count": 23,
   "metadata": {},
   "outputs": [
    {
     "name": "stdout",
     "output_type": "stream",
     "text": [
      "Sum: 10\n"
     ]
    }
   ],
   "source": [
    "def args_syntax(*args):\n",
    "\tprint(args)\n",
    "\n",
    "def sum_numbers(*args):\n",
    "\tsum = 0\n",
    "\tfor num in args:\n",
    "\t\tsum += num\n",
    "\treturn sum\n",
    "\n",
    "print(\"Sum:\", sum_numbers(1, 2, 3, 4))"
   ]
  },
  {
   "cell_type": "markdown",
   "metadata": {},
   "source": [
    "### Generic aka Duck typing"
   ]
  },
  {
   "cell_type": "code",
   "execution_count": 24,
   "metadata": {},
   "outputs": [
    {
     "name": "stdout",
     "output_type": "stream",
     "text": [
      "Dog is barking\n",
      "Cat is meowing\n",
      "Wolf is howling\n"
     ]
    }
   ],
   "source": [
    "class Dog:\n",
    "\tdef make_sound(self):\n",
    "\t\tprint(\"Dog is barking\")\n",
    "class Cat:\n",
    "\tdef make_sound(self):\n",
    "\t\tprint(\"Cat is meowing\")\n",
    "class Wolf:\n",
    "\tdef make_sound(self):\n",
    "\t\tprint(\"Wolf is howling\")\n",
    "\n",
    "# here all the objects have the same method\n",
    "objects = [Dog(), Cat(), Wolf()]\n",
    "for obj in objects:\n",
    "\tobj.make_sound() # even though the objects are different"
   ]
  }
 ],
 "metadata": {
  "kernelspec": {
   "display_name": "Python 3",
   "language": "python",
   "name": "python3"
  },
  "language_info": {
   "codemirror_mode": {
    "name": "ipython",
    "version": 3
   },
   "file_extension": ".py",
   "mimetype": "text/x-python",
   "name": "python",
   "nbconvert_exporter": "python",
   "pygments_lexer": "ipython3",
   "version": "3.12.6"
  }
 },
 "nbformat": 4,
 "nbformat_minor": 2
}
