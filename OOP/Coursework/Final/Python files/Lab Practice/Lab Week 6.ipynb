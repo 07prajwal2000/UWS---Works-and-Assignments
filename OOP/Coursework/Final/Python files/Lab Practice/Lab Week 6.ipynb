{
 "cells": [
  {
   "cell_type": "code",
   "execution_count": null,
   "id": "21b15c05-f9ed-4540-be49-cb64fd014636",
   "metadata": {},
   "outputs": [],
   "source": [
    "Week 6 Practical Exercise\n",
    "By Stephen Kwaku Pometsey\n",
    "Banner ID: B01757368"
   ]
  },
  {
   "cell_type": "code",
   "execution_count": 4,
   "id": "06120ba3-24a6-4d12-bf06-be38de5f3481",
   "metadata": {},
   "outputs": [
    {
     "name": "stdout",
     "output_type": "stream",
     "text": [
      "The fuel efficiency of Toyota Corolla is 20.00 km/l.\n"
     ]
    }
   ],
   "source": [
    "# Example: Procedural Programming\n",
    "def cal_efficiency(distance: float, fuel_used: float) -> float:\n",
    "    \"\"\"Calculate the fuel efficiency of a vehicle (km per liter).\"\"\"\n",
    "    return distance / fuel_used\n",
    "\n",
    "\n",
    "def show_vehicle_efficiency(vehicle: str, efficient: float):\n",
    "    \"\"\"Display vehicle fuel efficiency.\"\"\"\n",
    "    print(f\"The fuel efficiency of {vehicle} is {efficient:.2f} km/l.\")\n",
    "\n",
    "\n",
    "# Main program\n",
    "if __name__ == \"__main__\":\n",
    "    vehicle_name = \"Toyota Corolla\"\n",
    "    distance_traveled = 500  # in kilometers\n",
    "    fuel_consumed = 25  # in liters\n",
    "\n",
    "    efficiency = cal_efficiency(distance_traveled, fuel_consumed)\n",
    "    show_vehicle_efficiency(vehicle_name, efficiency)\n"
   ]
  },
  {
   "cell_type": "code",
   "execution_count": 2,
   "id": "bec0d9c0-f316-4e6d-83e6-4b9d962ae355",
   "metadata": {},
   "outputs": [
    {
     "name": "stdout",
     "output_type": "stream",
     "text": [
      "Electric Vehicles: [{'name': 'Tesla Model S', 'type': 'electric', 'range': 600}, {'name': 'Nissan Leaf', 'type': 'electric', 'range': 300}]\n",
      "Average Range of Electric Vehicles: 450.00 km\n"
     ]
    }
   ],
   "source": [
    "# Example: Functional Programming\n",
    "\n",
    "from typing import List\n",
    "\n",
    "# Pure functions\n",
    "def is_electric(vehicle: dict) -> bool:\n",
    "    \"\"\"Check if a vehicle is electric.\"\"\"\n",
    "    return vehicle[\"type\"] == \"electric\"\n",
    "\n",
    "def average_range(vehicles: List[dict]) -> float:\n",
    "    \"\"\"Calculate the average range of a list of electric vehicles.\"\"\"\n",
    "    total_range = sum(vehicle[\"range\"] for vehicle in vehicles)\n",
    "    return total_range / len(vehicles) if vehicles else 0\n",
    "\n",
    "# Main program\n",
    "if __name__ == \"__main__\":\n",
    "    vehicles = [\n",
    "        {\"name\": \"Tesla Model S\", \"type\": \"electric\", \"range\": 600},\n",
    "        {\"name\": \"Ford F-150\", \"type\": \"diesel\", \"range\": 800},\n",
    "        {\"name\": \"Nissan Leaf\", \"type\": \"electric\", \"range\": 300},\n",
    "    ]\n",
    "\n",
    "    # Use filter to get only electric vehicles\n",
    "    electric_vehicles = list(filter(is_electric, vehicles))\n",
    "    avg_range = average_range(electric_vehicles)\n",
    "\n",
    "    print(\"Electric Vehicles:\", electric_vehicles)\n",
    "    print(f\"Average Range of Electric Vehicles: {avg_range:.2f} km\")\n"
   ]
  },
  {
   "cell_type": "code",
   "execution_count": 6,
   "id": "7ec29ddb-28a4-44d3-a99e-544b91c39a10",
   "metadata": {},
   "outputs": [
    {
     "name": "stdout",
     "output_type": "stream",
     "text": [
      "Toyota Corolla: Max Range = 750.00 km\n",
      "Tesla Model 3 (Electric): Max Range = 450.00 km\n"
     ]
    }
   ],
   "source": [
    "# Example: Object-Oriented Programming\n",
    "\n",
    "class Vehicle:\n",
    "    \"\"\"Base class for vehicles.\"\"\"\n",
    "    def __init__(self, name: str, fuel_capacity: float, fuel_efficiency: float):\n",
    "        self.name = name\n",
    "        self.fuel_capacity = fuel_capacity  # in liters\n",
    "        self.fuel_efficiency = fuel_efficiency  # in km/l\n",
    "\n",
    "    @property\n",
    "    def max_range(self) -> float:\n",
    "        \"\"\"Calculate the maximum range of the vehicle.\"\"\"\n",
    "        return self.fuel_capacity * self.fuel_efficiency\n",
    "\n",
    "    def __str__(self) -> str:\n",
    "        return f\"{self.name}: Max Range = {self.max_range:.2f} km\"\n",
    "\n",
    "class ElectricVehicle(Vehicle):\n",
    "    \"\"\"Electric vehicle class inheriting from Vehicle.\"\"\"\n",
    "    def __init__(self, name: str, battery_capacity: float, efficiency: float):\n",
    "        super().__init__(name, fuel_capacity=0, fuel_efficiency=0)\n",
    "        self.battery_capacity = battery_capacity  # in kWh\n",
    "        self.efficiency = efficiency  # in km/kWh\n",
    "\n",
    "    @property\n",
    "    def max_range(self) -> float:\n",
    "        \"\"\"Override max_range for electric vehicles.\"\"\"\n",
    "        return self.battery_capacity * self.efficiency\n",
    "\n",
    "    def __str__(self) -> str:\n",
    "        return f\"{self.name} (Electric): Max Range = {self.max_range:.2f} km\"\n",
    "\n",
    "# Main program\n",
    "if __name__ == \"__main__\":\n",
    "    car = Vehicle(\"Toyota Corolla\", 50, 15)  # 50L tank, 15 km/L\n",
    "    ev = ElectricVehicle(\"Tesla Model 3\", 75, 6)  # 75 kWh battery, 6 km/kWh\n",
    "\n",
    "    print(car)\n",
    "    print(ev)\n"
   ]
  },
  {
   "cell_type": "code",
   "execution_count": null,
   "id": "e227dfe2-3b51-43d3-91c2-d62912a11096",
   "metadata": {},
   "outputs": [],
   "source": []
  }
 ],
 "metadata": {
  "kernelspec": {
   "display_name": "Python 3 (ipykernel)",
   "language": "python",
   "name": "python3"
  },
  "language_info": {
   "codemirror_mode": {
    "name": "ipython",
    "version": 3
   },
   "file_extension": ".py",
   "mimetype": "text/x-python",
   "name": "python",
   "nbconvert_exporter": "python",
   "pygments_lexer": "ipython3",
   "version": "3.12.4"
  }
 },
 "nbformat": 4,
 "nbformat_minor": 5
}
