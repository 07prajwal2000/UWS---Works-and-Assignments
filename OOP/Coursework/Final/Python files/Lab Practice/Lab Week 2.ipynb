{
 "cells": [
  {
   "cell_type": "markdown",
   "metadata": {},
   "source": [
    "# Week 2 Practical Exercises"
   ]
  },
  {
   "cell_type": "code",
   "execution_count": 6,
   "metadata": {},
   "outputs": [
    {
     "name": "stdout",
     "output_type": "stream",
     "text": [
      "True\n",
      "True\n",
      "True\n",
      "True\n",
      "True\n",
      "True\n"
     ]
    }
   ],
   "source": [
    "# Comparison operators\n",
    "\n",
    "isGt = 5 > 4 # true\n",
    "isGte = 5 >= 5 or 100 >= 20 # true\n",
    "isEquals = 5 == 5 # true\n",
    "isNotEquals = 5 != 4 # true\n",
    "isLt = 22 < 222 # true\n",
    "isLte = 555 <= 678 # true\n",
    "\n",
    "print(isGt)\n",
    "print(isGte)\n",
    "print(isEquals)\n",
    "print(isNotEquals)\n",
    "print(isLt)\n",
    "print(isLte)"
   ]
  },
  {
   "cell_type": "code",
   "execution_count": 1,
   "metadata": {},
   "outputs": [
    {
     "name": "stdout",
     "output_type": "stream",
     "text": [
      "I'm adult\n",
      "10\n"
     ]
    }
   ],
   "source": [
    "# Logical Operators\n",
    "age = 19\n",
    "isAdult = age >= 18 and age <= 70\n",
    "if isAdult:\n",
    "\tprint(\"I'm adult\")\n",
    "else:\n",
    "\tprint(\"I'm not adult\")\n",
    "\n",
    "x = 10\n",
    "\n",
    "if x < 5 or x > 8:\n",
    "\tprint(x)\n",
    "else:\n",
    "\tprint(\"unknown number\")"
   ]
  },
  {
   "cell_type": "code",
   "execution_count": 8,
   "metadata": {},
   "outputs": [
    {
     "name": "stdout",
     "output_type": "stream",
     "text": [
      "It is a calm day\n"
     ]
    }
   ],
   "source": [
    "wind_speed = 8\n",
    "\n",
    "if wind_speed < 10:\n",
    "    print(\"It is a calm day\")\n",
    "else:\n",
    "\tprint(\"It's a windy day\")"
   ]
  },
  {
   "cell_type": "code",
   "execution_count": 15,
   "metadata": {},
   "outputs": [
    {
     "name": "stdout",
     "output_type": "stream",
     "text": [
      "You failed\n"
     ]
    }
   ],
   "source": [
    "grade = 44\n",
    "\n",
    "if grade < 50:\n",
    "    print(\"You failed\")\n",
    "elif grade < 60:\n",
    "    print(\"You passed just above the passing marks\")\n",
    "elif grade < 70:\n",
    "    print(\"Your marks are good\")\n",
    "else:\n",
    "\tprint(\"Your marks are excellent. You done well in exams.\")"
   ]
  },
  {
   "cell_type": "code",
   "execution_count": 19,
   "metadata": {},
   "outputs": [
    {
     "name": "stdout",
     "output_type": "stream",
     "text": [
      "temp2 is hotter than temp2\n",
      "\n",
      "Ternary operator\n",
      "temp2 is hotter than temp2\n"
     ]
    }
   ],
   "source": [
    "temp1 = 10\n",
    "temp2 = 20\n",
    "\n",
    "if temp1 > temp2:\n",
    "\tprint(\"temp 1 is hotter than temp2\")\n",
    "else:\n",
    "\tprint(\"temp2 is hotter than temp2\")\n",
    "\n",
    "print(\"\\nTernary operator\")\n",
    "print(\"temp 1 is hotter than temp2\") if temp1 > temp2 else print(\"temp2 is hotter than temp2\")"
   ]
  },
  {
   "cell_type": "code",
   "execution_count": 46,
   "metadata": {},
   "outputs": [
    {
     "name": "stdout",
     "output_type": "stream",
     "text": [
      "['London', 'Glasgow', 'Edinburgh', 'Manchester', 'Liverpool', 'Birmingham']\n",
      "Manchester\n",
      "Birmingham\n",
      "['Glasgow', 'Edinburgh', 'Manchester', 'Liverpool']\n",
      "['London', 'Glasgow', 'Edinburgh']\n",
      "['Manchester', 'Liverpool', 'Birmingham']\n",
      "Modified 2nd idx: \n",
      "['London', 'Glasgow', 'Bangalore', 'Manchester', 'Liverpool', 'Birmingham']\n",
      "Added one more city\n",
      "['London', 'Glasgow', 'Bangalore', 'Manchester', 'Liverpool', 'Birmingham', 'Tumkur']\n"
     ]
    }
   ],
   "source": [
    "cities = [\"London\", \"Glasgow\", \"Edinburgh\", \"Manchester\", \"Liverpool\", \"Birmingham\"]\n",
    "print(cities)\n",
    "print(cities[3])\n",
    "print(cities[-1])\n",
    "print(cities[1:5])\n",
    "print(cities[:3])\n",
    "print(cities[3:])\n",
    "cities[2] = \"Bangalore\"\n",
    "print(\"Modified 2nd idx: \")\n",
    "print(cities)\n",
    "print(\"Added one more city\")\n",
    "cities.append(\"Tumkur\")\n",
    "print(cities)"
   ]
  },
  {
   "cell_type": "code",
   "execution_count": 60,
   "metadata": {},
   "outputs": [
    {
     "name": "stdout",
     "output_type": "stream",
     "text": [
      "['orange', 'white', 'green']\n",
      "2nd element: white\n",
      "['red', 'white', 'green', 'blue']\n",
      "Length of the colours list is 4\n",
      "The colours list contains red\n",
      "True\n",
      "Selected colours: ['red', 'white']\n"
     ]
    }
   ],
   "source": [
    "# Task Create, Access and Modify Lists\n",
    "\n",
    "colours = [\"orange\", \"white\", \"green\"]\n",
    "print(colours)\n",
    "colours.append(\"blue\")\n",
    "print(\"2nd element: \" + colours[1])\n",
    "colours[0] = \"red\"\n",
    "print(colours)\n",
    "print(f\"Length of the colours list is {len(colours)}\")\n",
    "\n",
    "print(\"Red is in the list\") if \"red\" in colours else print(\"Red is not in the list\")\n",
    "\n",
    "selectedColours = colours[:2]\n",
    "print(\"Selected colours: \" + str(selectedColours))"
   ]
  },
  {
   "cell_type": "code",
   "execution_count": 85,
   "metadata": {},
   "outputs": [
    {
     "name": "stdout",
     "output_type": "stream",
     "text": [
      "While Loops\n",
      "0\n",
      "1\n",
      "2\n",
      "3\n",
      "4\n",
      "For Loops\n",
      "Delhi\n",
      "London\n",
      "Bangalore\n",
      "Tumkur\n",
      "For Loops with Range\n",
      "1\n",
      "2\n",
      "3\n",
      "4\n",
      "Breaks\n",
      "1\n",
      "2\n",
      "Even numbers\n",
      "2 is even\n",
      "4 is even\n",
      "6 is even\n",
      "8 is even\n",
      "Sum of squares 55\n",
      "Lift off\n"
     ]
    }
   ],
   "source": [
    "# Loops\n",
    "print(\"While Loops\")\n",
    "i = 0\n",
    "while i < 5:\n",
    "\tprint(i)\n",
    "\ti += 1\n",
    "\n",
    "print(\"For Loops\")\n",
    "for city in [\"Delhi\", \"London\", \"Bangalore\", \"Tumkur\"]:\n",
    "\tprint(city)\n",
    "\n",
    "print(\"For Loops with Range\")\n",
    "for i in range(1, 5):\n",
    "\tprint(i)\n",
    "print(\"Breaks\")\n",
    "for i in range(1, 5):\n",
    "\tif i == 3:\n",
    "\t\tbreak\n",
    "\tprint(i)\n",
    "\n",
    "print(\"Even numbers\")\n",
    "for i in range(1, 9):\n",
    "\tif i % 2 == 0:\n",
    "\t\tprint(f\"{i} is even\")\n",
    "\n",
    "sumOfSquares = 0\n",
    "for i in range(1, 6):\n",
    "\tsumOfSquares += (i * i)\n",
    "print(f\"Sum of squares {sumOfSquares}\")\n",
    "\n",
    "countdown = 10\n",
    "while countdown > 0:\n",
    "\tcountdown -= 1\n",
    "print(\"Liftoff\")"
   ]
  },
  {
   "cell_type": "code",
   "execution_count": 90,
   "metadata": {},
   "outputs": [
    {
     "name": "stdout",
     "output_type": "stream",
     "text": [
      "You are a minor\n"
     ]
    }
   ],
   "source": [
    "age = input(\"Please enter your age\")\n",
    "if not age.isdecimal():\n",
    "\tprint(\"Please enter a valid number\")\n",
    "else:\n",
    "\tage = int(age)\n",
    "\tif age < 18:\n",
    "\t\tprint(\"You are a minor\")\n",
    "\telif age >= 18 and age <= 65:\n",
    "\t\tprint(\"You are an adult\")\n",
    "\telse:\n",
    "\t\tprint(\"You are a senior Citizen\")"
   ]
  },
  {
   "cell_type": "code",
   "execution_count": 98,
   "metadata": {},
   "outputs": [
    {
     "name": "stdout",
     "output_type": "stream",
     "text": [
      "Temperature: 30 celcius\n",
      "Temperature: 86.0 farenheit\n",
      "Temperature: 303.15 kelvin\n"
     ]
    }
   ],
   "source": [
    "# Temperature converter\n",
    "temp = input(\"Please enter the temperature in celcius to convert to kelvin and farenheit\")\n",
    "if not temp.isdecimal():\n",
    "\tprint(\"Please enter a valid number\")\n",
    "else:\n",
    "\ttemp = int(temp)\n",
    "\tfh = (temp * 1.8) + 32\n",
    "\tkv = temp + 273.15\n",
    "\tprint(f\"Temperature: {temp} celcius\")\n",
    "\tprint(f\"Temperature: {fh} farenheit\")\n",
    "\tprint(f\"Temperature: {kv} kelvin\")"
   ]
  }
 ],
 "metadata": {
  "kernelspec": {
   "display_name": "Python 3",
   "language": "python",
   "name": "python3"
  },
  "language_info": {
   "codemirror_mode": {
    "name": "ipython",
    "version": 3
   },
   "file_extension": ".py",
   "mimetype": "text/x-python",
   "name": "python",
   "nbconvert_exporter": "python",
   "pygments_lexer": "ipython3",
   "version": "3.12.6"
  }
 },
 "nbformat": 4,
 "nbformat_minor": 2
}
