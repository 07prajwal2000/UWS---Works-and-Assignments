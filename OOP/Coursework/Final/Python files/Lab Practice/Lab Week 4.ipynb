{
 "cells": [
  {
   "cell_type": "code",
   "execution_count": null,
   "id": "fbe4fbe8-1bf5-4153-b696-4edbce6b88cc",
   "metadata": {},
   "outputs": [],
   "source": [
    "Week 4 Practical Exercise\n",
    "By Stephen Kwaku Pometsey\n",
    "Banner ID: B01757368\n",
    "\n"
   ]
  },
  {
   "cell_type": "code",
   "execution_count": 2,
   "id": "2e445913-b6a8-403d-9bc3-059e0d918478",
   "metadata": {},
   "outputs": [
    {
     "name": "stdout",
     "output_type": "stream",
     "text": [
      "Buddy\n",
      "Beagle\n",
      "Buddy says Woof\n",
      "Milo says Woof\n"
     ]
    }
   ],
   "source": [
    "# Example code for a Dog class and objects\n",
    "class Dog:\n",
    "    # Constructor method to initialize attributes\n",
    "    def __init__(self, name, breed):\n",
    "        self.name = name  # Attribute: name of the dog\n",
    "        self.breed = breed  # Attribute: breed of the dog\n",
    "\n",
    "    # Method to make the dog bark\n",
    "    def bark(self):\n",
    "        return f\"{self.name} says Woof\"\n",
    "\n",
    "\n",
    "# Creating Objects:\n",
    "# Creating two Dog objects with different names and breeds\n",
    "dog1 = Dog(\"Buddy\", \"Golden Retriever\")\n",
    "dog2 = Dog(\"Milo\", \"Beagle\")\n",
    "# Accessing attributes and methods of each object\n",
    "print(dog1.name)\n",
    "print(dog2.breed)\n",
    "print(dog1.bark())\n",
    "print(dog2.bark())\n",
    "\n"
   ]
  },
  {
   "cell_type": "code",
   "execution_count": 4,
   "id": "2f3279d9-0301-4a31-b5fe-8a7cc66f5e90",
   "metadata": {},
   "outputs": [
    {
     "name": "stdout",
     "output_type": "stream",
     "text": [
      "Peng is breathing.\n",
      "Peng is swimming in the water!\n",
      "Peng is walking on land!\n",
      "I am Peng, a penguin! I can swim and walk but cannot fly.\n"
     ]
    }
   ],
   "source": [
    "# Example code for Multiple Inheritance\n",
    "class Animal:\n",
    "    \"\"\"\n",
    "    The base class for all animals.\n",
    "\n",
    "    Attributes:\n",
    "        name (str): Name of the animal.\n",
    "    \"\"\"\n",
    "\n",
    "    def __init__(self, name: str):\n",
    "        self.name = name\n",
    "\n",
    "    def breathe(self) -> str:\n",
    "        \"\"\"Indicates that the animal is breathing.\"\"\"\n",
    "        return f\"{self.name} is breathing.\"\n",
    "\n",
    "\n",
    "class Flying:\n",
    "    \"\"\"\n",
    "    A mixin class representing flying capability.\n",
    "    \"\"\"\n",
    "\n",
    "    def fly(self) -> str:\n",
    "        \"\"\"Indicates that the animal can fly.\"\"\"\n",
    "        return f\"{self.name} is flying high in the sky!\"\n",
    "\n",
    "\n",
    "class Swimming:\n",
    "    \"\"\"\n",
    "    A mixin class representing swimming capability.\n",
    "    \"\"\"\n",
    "\n",
    "    def swim(self) -> str:\n",
    "        \"\"\"Indicates that the animal can swim.\"\"\"\n",
    "        return f\"{self.name} is swimming in the water!\"\n",
    "\n",
    "\n",
    "class Walking:\n",
    "    \"\"\"\n",
    "    A mixin class representing walking capability.\n",
    "    \"\"\"\n",
    "\n",
    "    def walk(self) -> str:\n",
    "        \"\"\"Indicates that the animal can walk.\"\"\"\n",
    "        return f\"{self.name} is walking on land!\"\n",
    "\n",
    "\n",
    "class Penguin(Animal, Swimming, Walking):\n",
    "    \"\"\"\n",
    "    A specific animal class for penguins, inheriting from Animal, Swimming, and Walking.\n",
    "    \"\"\"\n",
    "\n",
    "    def __init__(self, name: str):\n",
    "        super().__init__(name)\n",
    "\n",
    "    def who_am_i(self) -> str:\n",
    "        \"\"\"Returns a description of the penguin.\"\"\"\n",
    "        return f\"I am {self.name}, a penguin! I can swim and walk but cannot fly.\"\n",
    "\n",
    "\n",
    "# Example Usage\n",
    "if __name__ == \"__main__\":\n",
    "    peng = Penguin(\"Peng\")\n",
    "    print(peng.breathe())\n",
    "    print(peng.swim())\n",
    "    print(peng.walk())\n",
    "    print(peng.who_am_i())\n"
   ]
  },
  {
   "cell_type": "code",
   "execution_count": null,
   "id": "91944d12-5b50-4d5c-92eb-1f0b2eac2f19",
   "metadata": {},
   "outputs": [],
   "source": []
  }
 ],
 "metadata": {
  "kernelspec": {
   "display_name": "Python 3 (ipykernel)",
   "language": "python",
   "name": "python3"
  },
  "language_info": {
   "codemirror_mode": {
    "name": "ipython",
    "version": 3
   },
   "file_extension": ".py",
   "mimetype": "text/x-python",
   "name": "python",
   "nbconvert_exporter": "python",
   "pygments_lexer": "ipython3",
   "version": "3.12.4"
  }
 },
 "nbformat": 4,
 "nbformat_minor": 5
}
