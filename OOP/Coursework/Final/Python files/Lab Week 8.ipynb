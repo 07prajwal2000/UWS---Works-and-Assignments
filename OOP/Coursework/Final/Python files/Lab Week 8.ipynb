{
 "cells": [
  {
   "cell_type": "markdown",
   "metadata": {},
   "source": [
    "# Week 8 Practical Exercises"
   ]
  },
  {
   "cell_type": "markdown",
   "metadata": {},
   "source": [
    "### Lists and Nested Lists"
   ]
  },
  {
   "cell_type": "code",
   "execution_count": 2,
   "metadata": {},
   "outputs": [
    {
     "name": "stdout",
     "output_type": "stream",
     "text": [
      "['Apple', 'Grapes', 'Banana']\n",
      "['Apple', 'Grapes', 'Banana', 'Orange']\n",
      "['Apple', 'Banana', 'Orange']\n",
      "Length of the fruits list is 3\n"
     ]
    }
   ],
   "source": [
    "fruits = [\"Apple\", \"Grapes\", \"Banana\"]\n",
    "\n",
    "print(fruits)\n",
    "fruits.append(\"Orange\")\n",
    "print(fruits)\n",
    "fruits.remove(\"Grapes\")\n",
    "print(fruits)\n",
    "print(\"Length of the fruits list is\", len(fruits))"
   ]
  },
  {
   "cell_type": "code",
   "execution_count": 5,
   "metadata": {},
   "outputs": [
    {
     "name": "stdout",
     "output_type": "stream",
     "text": [
      "Normal for loop\n",
      "BMW\n",
      "AUDI\n",
      "MERCEDES\n",
      "FIAT\n",
      "\n",
      "For loop with enumerate()\n",
      "0) BMW\n",
      "1) AUDI\n",
      "2) MERCEDES\n",
      "3) FIAT\n"
     ]
    }
   ],
   "source": [
    "cars = [\"BMW\", \"AUDI\", \"MERCEDES\", \"FIAT\"]\n",
    "print(\"Normal for loop\")\n",
    "for car in cars:\n",
    "\tprint(car)\n",
    "\n",
    "print(\"\\nFor loop with enumerate()\")\n",
    "for i, car in enumerate(cars):\n",
    "\tprint(f\"{i}) {car}\")"
   ]
  },
  {
   "cell_type": "code",
   "execution_count": 17,
   "metadata": {},
   "outputs": [
    {
     "name": "stdout",
     "output_type": "stream",
     "text": [
      "Names from 0 to 2 ['Prajwal', 'Sreeraj']\n",
      "Names from to 4 ['Prajwal', 'Sreeraj', 'Aman', 'Ali']\n",
      "Names in -1 and -3 is Stephen and Aman\n"
     ]
    }
   ],
   "source": [
    "# Range index\n",
    "users = [\"Prajwal\", \"Sreeraj\", \"Aman\", \"Ali\", \"Stephen\"]\n",
    "print(\"Names from 0 to 2\", users[0:2])\n",
    "\n",
    "# Modifying does not affect the original list\n",
    "users[:4][0] = \"Unknown\" \n",
    "\n",
    "# slicing the list to length of 4 from start\n",
    "print(\"Names from to 4\", users[:4]) \n",
    "\n",
    "# providing the -1 gives the last element.\n",
    "print(\"Names in -1 and -3 is\", users[-1], \"and\", users[-3]) "
   ]
  },
  {
   "cell_type": "code",
   "execution_count": 2,
   "metadata": {},
   "outputs": [
    {
     "name": "stdout",
     "output_type": "stream",
     "text": [
      "Matrix [[1, 2, 3], [4, 5, 6], [7, 8, 9]]\n",
      "Value at 0th row, 2nd column in Matrix 3\n"
     ]
    }
   ],
   "source": [
    "# Nested Lists\n",
    "matrix = [\n",
    "\t[1, 2, 3],\n",
    "\t[4, 5, 6],\n",
    "\t[7, 8, 9]\n",
    "]\n",
    "\n",
    "print(\"Matrix\", matrix)\n",
    "print(\"Value at 0th row, 2nd column in Matrix\", matrix[0][2])"
   ]
  },
  {
   "cell_type": "markdown",
   "metadata": {},
   "source": [
    "### Dictionary"
   ]
  },
  {
   "cell_type": "code",
   "execution_count": 19,
   "metadata": {},
   "outputs": [
    {
     "name": "stdout",
     "output_type": "stream",
     "text": [
      "Dictionary using { } {'India': 'New Delhi', 'England': 'London', 'USA': 'Washington DC', 'Germany': 'Berlin'}\n",
      "Dictionary using dict() {'India': 'New Delhi', 'England': 'London', 'USA': 'Washington DC', 'Germany': 'Berlin'}\n",
      "Are both Equal: True\n"
     ]
    }
   ],
   "source": [
    "country = {\n",
    "\t# KEY  :  VALUE\n",
    "\t\"India\": \"New Delhi\",\n",
    "\t\"England\": \"London\",\n",
    "\t\"USA\": \"Washington DC\",\n",
    "\t\"Germany\": \"Berlin\"\n",
    "}\n",
    "\n",
    "country1 = dict(India = \"New Delhi\", England = \"London\", USA = \"Washington DC\", Germany = \"Berlin\")\n",
    "\n",
    "print(\"Dictionary using { }\", country)\n",
    "print(\"Dictionary using dict()\", country1)\n",
    "\n",
    "print(\"Are both Equal:\", country == country1)"
   ]
  },
  {
   "cell_type": "code",
   "execution_count": 59,
   "metadata": {},
   "outputs": [
    {
     "name": "stdout",
     "output_type": "stream",
     "text": [
      "Accessing an element inside dictionary:  Aventador SVJ\n",
      "{'BMW': 'M3 GTR', 'Dodge': 'challenger', 'Lamborghini': 'Aventador SVJ'}\n",
      "Keys in cars dictionary dict_keys(['BMW', 'Dodge', 'Lamborghini'])\n",
      "Values in cars dictionary dict_values(['M3 GTR', 'challenger', 'Aventador SVJ'])\n",
      "Key is BMW and value is M3 GTR\n",
      "Key is Dodge and value is challenger\n",
      "Key is Lamborghini and value is Aventador SVJ\n"
     ]
    }
   ],
   "source": [
    "cars = {\n",
    "\t\"BMW\": \"M5\",\n",
    "\t\"Mercedes\": \"AMG\",\n",
    "\t\"Dodge\": \"challenger\",\n",
    "}\n",
    "\n",
    "# Adding to a dictionary\n",
    "cars[\"Lamborghini\"] = \"Aventador SVJ\"\n",
    "# Modify\n",
    "cars[\"BMW\"] = \"M3 GTR\"\n",
    "# Deleting\n",
    "del cars[\"Mercedes\"]\n",
    "\n",
    "print(\"Accessing an element inside dictionary: \", cars[\"Lamborghini\"])\n",
    "print(cars)\n",
    "# Getting all the keys\n",
    "print(\"Keys in cars dictionary\", cars.keys())\n",
    "# Getting all the values\n",
    "print(\"Values in cars dictionary\", cars.values())\n",
    "\n",
    "for brand in cars:\n",
    "\tprint(\"Key is\", brand, \"and value is\", cars[brand])"
   ]
  },
  {
   "cell_type": "code",
   "execution_count": 50,
   "metadata": {},
   "outputs": [
    {
     "name": "stdout",
     "output_type": "stream",
     "text": [
      "Histogram: {1: 2, 2: 2, 3: 3, 4: 3, 6: 1}\n"
     ]
    }
   ],
   "source": [
    "# Histogram\n",
    "\n",
    "def histogram(nums):\n",
    "\toccurances = { }\n",
    "\tfor num in nums:\n",
    "\t\tif num in occurances:\n",
    "\t\t\toccurances[num] += 1\n",
    "\t\telse:\n",
    "\t\t\toccurances[num] = 1\n",
    "\treturn occurances\n",
    "\n",
    "numbers = [1, 2, 3, 4, 6, 1, 2, 3, 3, 4, 4]\n",
    "occurances = histogram(numbers)\n",
    "print(\"Histogram:\", occurances)\n",
    "assert occurances == {1: 2, 2: 2, 3: 3, 4: 3, 6: 1}"
   ]
  },
  {
   "cell_type": "markdown",
   "metadata": {},
   "source": [
    "### Tuples"
   ]
  },
  {
   "cell_type": "code",
   "execution_count": 80,
   "metadata": {},
   "outputs": [
    {
     "name": "stdout",
     "output_type": "stream",
     "text": [
      "1st element car\n",
      "car doll scooter ball\n",
      "Before Assigning car\n",
      "After Assigning sedan\n"
     ]
    }
   ],
   "source": [
    "toys = (\"car\", \"doll\", \"scooter\", \"ball\")\n",
    "print(\"1st element\", toys[0])\n",
    "\n",
    "# Destructuring\n",
    "car, doll, scooter, ball = toys\n",
    "print(car, doll, scooter, ball)\n",
    "\n",
    "# assigning a value throws an error\n",
    "# toys[0] = \"bike\"\n",
    "print(\"Before Assigning\", car)\n",
    "car = \"sedan\"\n",
    "print(\"After Assigning\", car)"
   ]
  },
  {
   "cell_type": "markdown",
   "metadata": {},
   "source": [
    "### Sets"
   ]
  },
  {
   "cell_type": "code",
   "execution_count": 96,
   "metadata": {},
   "outputs": [
    {
     "name": "stdout",
     "output_type": "stream",
     "text": [
      "Set of numbers {1, 2, 3, 4}\n",
      "Adding 5 to it {1, 2, 3, 4, 5}\n",
      "Union: {1, 2, 3, 4, 5, 6, 8, 11}\n",
      "Intersection: {2, 3}\n",
      "Difference: {1, 2, 3}\n"
     ]
    }
   ],
   "source": [
    "nums = {1, 2, 3, 4}\n",
    "print(\"Set of numbers\", nums)\n",
    "\n",
    "# Adding elements\n",
    "nums.add(5)\n",
    "print(\"Adding 5 to it\", nums)\n",
    "\n",
    "# Union operation\n",
    "print(\"Union:\", nums.union({4, 5, 6, 8, 11}))\n",
    "\n",
    "# Intersection operation\n",
    "print(\"Intersection:\", nums.intersection({2, 3}))\n",
    "\n",
    "# Difference operation\n",
    "print(\"Difference:\", nums.difference({4, 5, 6}))"
   ]
  },
  {
   "cell_type": "markdown",
   "metadata": {},
   "source": [
    "### Abstract Classes"
   ]
  },
  {
   "cell_type": "code",
   "execution_count": 100,
   "metadata": {},
   "outputs": [
    {
     "name": "stdout",
     "output_type": "stream",
     "text": [
      "Dog is barking\n",
      "Cat is meowing\n",
      "Mouse is sqeeking\n"
     ]
    }
   ],
   "source": [
    "from abc import abstractmethod, ABC\n",
    "\n",
    "class Animal(ABC):\n",
    "\t@abstractmethod\n",
    "\tdef make_sound(self):\n",
    "\t\tpass\n",
    "\t\n",
    "\tdef sleep(self):\n",
    "\t\tprint(\"Animal is sleeping\")\n",
    "\n",
    "class Cat(Animal):\n",
    "\tdef make_sound(self):\n",
    "\t\tprint(\"Cat is meowing\")\n",
    "\n",
    "class Dog(Animal):\n",
    "\tdef make_sound(self):\n",
    "\t\tprint(\"Dog is barking\")\n",
    "\n",
    "class Mouse(Animal):\n",
    "\tdef make_sound(self):\n",
    "\t\tprint(\"Mouse is sqeeking\")\n",
    "\n",
    "spike: Animal = Dog()\n",
    "spike.make_sound()\n",
    "tom: Animal = Cat()\n",
    "tom.make_sound()\n",
    "jerry: Animal = Mouse()\n",
    "jerry.make_sound()"
   ]
  },
  {
   "cell_type": "code",
   "execution_count": 106,
   "metadata": {},
   "outputs": [
    {
     "name": "stdout",
     "output_type": "stream",
     "text": [
      "Dice-roll Occurances: {3: 171, 6: 162, 2: 175, 5: 157, 1: 156, 4: 179}\n"
     ]
    }
   ],
   "source": [
    "# Task: Generating Dice rolls 1000 times\n",
    "\n",
    "from random import randint\n",
    "\n",
    "def histogram(nums):\n",
    "\toccurances = { }\n",
    "\tfor num in nums:\n",
    "\t\tif num in occurances:\n",
    "\t\t\toccurances[num] += 1\n",
    "\t\telse:\n",
    "\t\t\toccurances[num] = 1\n",
    "\treturn occurances\n",
    "\n",
    "def roll_dice():\n",
    "\ttop_face = randint(1, 6)\n",
    "\treturn top_face\n",
    "dice_rolls = []\n",
    "for i in range(1000):\n",
    "\tdice_rolls.append(roll_dice())\n",
    "\n",
    "print(\"Dice-roll Occurances:\", histogram(dice_rolls))"
   ]
  },
  {
   "cell_type": "code",
   "execution_count": 117,
   "metadata": {},
   "outputs": [
    {
     "name": "stdout",
     "output_type": "stream",
     "text": [
      "6-Sided Dice rolled:  4\n",
      "10-Sided Dice rolled:  8\n"
     ]
    }
   ],
   "source": [
    "import abc\n",
    "import random\n",
    "\n",
    "class Dice(abc.ABC):\n",
    "\t@abc.abstractmethod\n",
    "\tdef roll_dice(self):\n",
    "\t\tpass\n",
    "\n",
    "class SixSideDice(Dice):\n",
    "\tdef roll_dice(self):\n",
    "\t\treturn random.randint(1, 6)\n",
    "\n",
    "class TenSideDice(Dice):\n",
    "\tdef roll_dice(self):\n",
    "\t\treturn random.randint(1, 10)\n",
    "\n",
    "six_side = SixSideDice()\n",
    "print(\"6-Sided Dice rolled: \", six_side.roll_dice())\n",
    "\n",
    "ten_side = TenSideDice()\n",
    "print(\"10-Sided Dice rolled: \", ten_side.roll_dice())"
   ]
  }
 ],
 "metadata": {
  "kernelspec": {
   "display_name": "Python 3",
   "language": "python",
   "name": "python3"
  },
  "language_info": {
   "codemirror_mode": {
    "name": "ipython",
    "version": 3
   },
   "file_extension": ".py",
   "mimetype": "text/x-python",
   "name": "python",
   "nbconvert_exporter": "python",
   "pygments_lexer": "ipython3",
   "version": "3.12.6"
  }
 },
 "nbformat": 4,
 "nbformat_minor": 2
}
