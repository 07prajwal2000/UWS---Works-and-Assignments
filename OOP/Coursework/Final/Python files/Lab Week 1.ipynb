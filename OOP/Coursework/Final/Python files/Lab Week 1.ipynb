{
 "cells": [
  {
   "cell_type": "markdown",
   "metadata": {},
   "source": [
    "# Week 1 Practical Exercises\n",
    "By Prajwal Aradhya\n",
    "\n",
    "Banner ID: B01759301"
   ]
  },
  {
   "cell_type": "code",
   "execution_count": 26,
   "metadata": {},
   "outputs": [],
   "source": [
    "var_1 = True        # Type = Boolean\n",
    "var_2 = 1       # Type = int\n",
    "var_3 = 3.14159    # Type = float\n",
    "var_4 = \"Hello World\"  # Type = string"
   ]
  },
  {
   "cell_type": "code",
   "execution_count": 27,
   "metadata": {},
   "outputs": [
    {
     "name": "stdout",
     "output_type": "stream",
     "text": [
      "Addition: 22\n",
      "Subtraction: 2\n",
      "Multiplication: 8\n",
      "Division: 3.0\n",
      "Floor Division: 4\n",
      "Modulus: 1\n",
      "Is 10 Even:  True\n",
      "Exponentiation: 8\n",
      "Avg = 15.0\n",
      "Area: 15\n"
     ]
    }
   ],
   "source": [
    "#Addition\n",
    "result_addition = 10 + 12\n",
    "print(\"Addition:\", result_addition)\n",
    "\n",
    "#Subtraction\n",
    "result_subtraction = 10 - 8\n",
    "print(\"Subtraction:\", result_subtraction)\n",
    "\n",
    "#Multiplication\n",
    "result_multiplication = 2 * 4\n",
    "print(\"Multiplication:\", result_multiplication)\n",
    "\n",
    "#Division\n",
    "result_division = 9 / 3\n",
    "print(\"Division:\", result_division)\n",
    "\n",
    "#Floor Division\n",
    "result_floor_division = 17 // 4\n",
    "print(\"Floor Division:\", result_floor_division)\n",
    "\n",
    "#Modulus\n",
    "result_modulus = 17 % 4\n",
    "print(\"Modulus:\", result_modulus)\n",
    "print(\"Is 10 Even: \", True if 10 % 2 == 0 else False)\n",
    "\n",
    "#Exponentiation\n",
    "result_exponentiation = 2 ** 3\n",
    "print(\"Exponentiation:\", result_exponentiation)\n",
    "\n",
    "num1 = 10\n",
    "num2 = 20\n",
    "avg = (num1 + num2) / 2\n",
    "print(\"Avg = \" + str(avg))\n",
    "\n",
    "length = 5\n",
    "width = 3\n",
    "area = length * width\n",
    "print(\"Area: \" + str(area))"
   ]
  },
  {
   "cell_type": "code",
   "execution_count": 5,
   "metadata": {},
   "outputs": [
    {
     "name": "stdout",
     "output_type": "stream",
     "text": [
      "Hello I'm Prajwal\n",
      "Hello I'm Prajwal Aradhya\n",
      "HELLO I'M PRAJWAL ARADHYA\n",
      "hello i'm prajwal aradhya\n",
      "Length of my_str is 25\n",
      "My name is Prajwal, My campus is UWS London and total strength of my class is 30. I enrolled to September term.\n"
     ]
    }
   ],
   "source": [
    "# Strings\n",
    "\n",
    "my_str = \"Hello I'm Prajwal\"\n",
    "print(my_str)\n",
    "my_str += \" Aradhya\"\n",
    "print(my_str)\n",
    "print(my_str.upper())\n",
    "print(my_str.lower())\n",
    "print(\"Length of my_str is \" + str(len(my_str)))\n",
    "\n",
    "name = \"Prajwal\"\n",
    "strength = 30\n",
    "campus = \"UWS London\"\n",
    "term = \"September\"\n",
    "\n",
    "sentence = f\"My name is {name}, My campus is {campus} and total strength of my class is {strength}. I enrolled to {term} term.\"\n",
    "print(sentence)"
   ]
  },
  {
   "cell_type": "code",
   "execution_count": null,
   "metadata": {},
   "outputs": [],
   "source": [
    "# Temperature converter\n",
    "temp = input(\"Please enter the temperature in celcius to convert to kelvin and farenheit\")\n",
    "if not temp.isdecimal():\n",
    "\tprint(\"Please enter a valid number\")\n",
    "else:\n",
    "\ttemp = int(temp)\n",
    "\tfh = (temp * 1.8) + 32\n",
    "\tkv = temp + 273.15\n",
    "\tprint(f\"Temperature: {temp} celcius\")\n",
    "\tprint(f\"Temperature: {fh} farenheit\")\n",
    "\tprint(f\"Temperature: {kv} kelvin\")"
   ]
  }
 ],
 "metadata": {
  "kernelspec": {
   "display_name": "Python 3",
   "language": "python",
   "name": "python3"
  },
  "language_info": {
   "codemirror_mode": {
    "name": "ipython",
    "version": 3
   },
   "file_extension": ".py",
   "mimetype": "text/x-python",
   "name": "python",
   "nbconvert_exporter": "python",
   "pygments_lexer": "ipython3",
   "version": "3.12.6"
  }
 },
 "nbformat": 4,
 "nbformat_minor": 2
}
