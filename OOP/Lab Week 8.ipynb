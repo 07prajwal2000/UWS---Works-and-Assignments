{
 "cells": [
  {
   "cell_type": "markdown",
   "metadata": {},
   "source": [
    "# Week 8 Practical Exercises\n",
    "Data Structures and Abstract Classes\n",
    "\n",
    "By Prajwal Aradhya\n",
    "\n",
    "B01759301"
   ]
  },
  {
   "cell_type": "markdown",
   "metadata": {},
   "source": [
    "### Lists and Nested Lists"
   ]
  },
  {
   "cell_type": "code",
   "execution_count": 2,
   "metadata": {},
   "outputs": [
    {
     "name": "stdout",
     "output_type": "stream",
     "text": [
      "['Apple', 'Grapes', 'Banana']\n",
      "['Apple', 'Grapes', 'Banana', 'Orange']\n",
      "['Apple', 'Banana', 'Orange']\n",
      "Length of the fruits list is 3\n"
     ]
    }
   ],
   "source": [
    "fruits = [\"Apple\", \"Grapes\", \"Banana\"]\n",
    "\n",
    "print(fruits)\n",
    "fruits.append(\"Orange\")\n",
    "print(fruits)\n",
    "fruits.remove(\"Grapes\")\n",
    "print(fruits)\n",
    "print(\"Length of the fruits list is\", len(fruits))"
   ]
  },
  {
   "cell_type": "code",
   "execution_count": 5,
   "metadata": {},
   "outputs": [
    {
     "name": "stdout",
     "output_type": "stream",
     "text": [
      "Normal for loop\n",
      "BMW\n",
      "AUDI\n",
      "MERCEDES\n",
      "FIAT\n",
      "\n",
      "For loop with enumerate()\n",
      "0) BMW\n",
      "1) AUDI\n",
      "2) MERCEDES\n",
      "3) FIAT\n"
     ]
    }
   ],
   "source": [
    "cars = [\"BMW\", \"AUDI\", \"MERCEDES\", \"FIAT\"]\n",
    "print(\"Normal for loop\")\n",
    "for car in cars:\n",
    "\tprint(car)\n",
    "\n",
    "print(\"\\nFor loop with enumerate()\")\n",
    "for i, car in enumerate(cars):\n",
    "\tprint(f\"{i}) {car}\")"
   ]
  },
  {
   "cell_type": "code",
   "execution_count": 17,
   "metadata": {},
   "outputs": [
    {
     "name": "stdout",
     "output_type": "stream",
     "text": [
      "Names from 0 to 2 ['Prajwal', 'Sreeraj']\n",
      "Names from to 4 ['Prajwal', 'Sreeraj', 'Aman', 'Ali']\n",
      "Names in -1 and -3 is Stephen and Aman\n"
     ]
    }
   ],
   "source": [
    "# Range index\n",
    "users = [\"Prajwal\", \"Sreeraj\", \"Aman\", \"Ali\", \"Stephen\"]\n",
    "print(\"Names from 0 to 2\", users[0:2])\n",
    "\n",
    "# Modifying does not affect the original list\n",
    "users[:4][0] = \"Unknown\" \n",
    "\n",
    "# slicing the list to length of 4 from start\n",
    "print(\"Names from to 4\", users[:4]) \n",
    "\n",
    "# providing the -1 gives the last element.\n",
    "print(\"Names in -1 and -3 is\", users[-1], \"and\", users[-3]) "
   ]
  },
  {
   "cell_type": "code",
   "execution_count": null,
   "metadata": {},
   "outputs": [],
   "source": [
    "# Nested Lists\n",
    "matrix = [\n",
    "\t[1, 2, 3],\n",
    "\t[4, 5, 6],\n",
    "\t[7, 8, 9]\n",
    "]\n",
    "\n"
   ]
  },
  {
   "cell_type": "markdown",
   "metadata": {},
   "source": [
    "### Dictionary"
   ]
  },
  {
   "cell_type": "code",
   "execution_count": null,
   "metadata": {},
   "outputs": [],
   "source": []
  }
 ],
 "metadata": {
  "kernelspec": {
   "display_name": "Python 3",
   "language": "python",
   "name": "python3"
  },
  "language_info": {
   "codemirror_mode": {
    "name": "ipython",
    "version": 3
   },
   "file_extension": ".py",
   "mimetype": "text/x-python",
   "name": "python",
   "nbconvert_exporter": "python",
   "pygments_lexer": "ipython3",
   "version": "3.12.6"
  }
 },
 "nbformat": 4,
 "nbformat_minor": 2
}
