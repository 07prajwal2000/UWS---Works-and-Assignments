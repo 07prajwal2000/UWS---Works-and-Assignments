{
 "cells": [
  {
   "cell_type": "markdown",
   "metadata": {},
   "source": [
    "# Week 3 Practical Exercises\n",
    "By Prajwal Aradhya\n",
    "\n",
    "Banner ID: B01759301"
   ]
  },
  {
   "cell_type": "code",
   "execution_count": 25,
   "metadata": {},
   "outputs": [
    {
     "name": "stdout",
     "output_type": "stream",
     "text": [
      "Hello, Prajwal\n",
      "Hello, Aradhya\n"
     ]
    }
   ],
   "source": [
    "# Greet friends\n",
    "\n",
    "def GreetFriends(names: list[str]):\n",
    "  for name in names:\n",
    "    print(f\"Hello, {name}\")\n",
    "\n",
    "GreetFriends([\"Prajwal\", \"Aradhya\"])"
   ]
  },
  {
   "cell_type": "code",
   "execution_count": 24,
   "metadata": {},
   "outputs": [
    {
     "name": "stdout",
     "output_type": "stream",
     "text": [
      "3\n",
      "6\n",
      "(12, 20)\n"
     ]
    }
   ],
   "source": [
    "# Add, multiply and Tuples\n",
    "\n",
    "def Add(a: int, b: int):\n",
    "  return a + b\n",
    "\n",
    "def Multiply(a: int, b: int):\n",
    "  return a * b\n",
    "\n",
    "def AddMulTuple(a: int, b: int):\n",
    "  return Add(a, b), Multiply(a, b)\n",
    "\n",
    "print(Add(1, 2))\n",
    "print(Multiply(3, 2))\n",
    "print(AddMulTuple(10, 2))"
   ]
  },
  {
   "cell_type": "code",
   "execution_count": 25,
   "metadata": {},
   "outputs": [
    {
     "name": "stdout",
     "output_type": "stream",
     "text": [
      "1159\n"
     ]
    }
   ],
   "source": [
    "# Tax calculation\n",
    "\n",
    "def compound_interest(principal: int, duration: int, interest_rate: int):\n",
    "  total_for_the_year = principal * (1 + interest_rate) ** duration\n",
    "  return total_for_the_year\n",
    "\n",
    "value = round(compound_interest(1000, 5, 0.03))\n",
    "\n",
    "print(value)\n",
    "\n",
    "assert value == 1159"
   ]
  },
  {
   "cell_type": "code",
   "execution_count": 26,
   "metadata": {},
   "outputs": [
    {
     "name": "stdout",
     "output_type": "stream",
     "text": [
      "Hello, World!\n",
      "The sum is 8\n",
      "cherry\n",
      "Good morning!\n"
     ]
    }
   ],
   "source": [
    "# Error fixing\n",
    "\n",
    "# pritn(\"Hello, World!\") # error in pritn\n",
    "print(\"Hello, World!\")\n",
    "\n",
    "# number1 = \"5\" \n",
    "number1 = 5 \n",
    "number2 = 3 \n",
    "result = number1 + number2 \n",
    "\n",
    "print(f\"The sum is {result}\")\n",
    "\n",
    "fruits = [\"apple\", \"banana\", \"cherry\"] \n",
    "# print(fruits[3]) -> index out of bounds \n",
    "print(fruits[2]) \n",
    "\n",
    "time = 11 \n",
    "if time < 12: \n",
    "#print(\"Good morning!\")  # no indentation/tab space\n",
    "  print(\"Good morning!\")  \n",
    "\n"
   ]
  },
  {
   "cell_type": "code",
   "execution_count": 1,
   "metadata": {},
   "outputs": [
    {
     "name": "stdout",
     "output_type": "stream",
     "text": [
      "____________________________________\n",
      "TODO List manager\n",
      "\n",
      "1. Add Item\n",
      "2. Delete Item\n",
      "3. View Items\n",
      "4. Quit\n",
      "5. Print menu\n",
      "____________________________________\n",
      "\n",
      "Select an option\n",
      "\n",
      "\n",
      "Bye 👋\n"
     ]
    }
   ],
   "source": [
    "tasks = []\n",
    "\n",
    "def addTask(name):\n",
    "\ttasks.append(name)\n",
    "\n",
    "def viewTasks():\n",
    "\tfor i, t in enumerate(tasks):\n",
    "\t\tprint(f\"{i}) {t}\")\n",
    "\n",
    "def deleteTask(idx):\n",
    "\tif idx < 0 or idx >= len(tasks):\n",
    "\t\tprint(\"Invalid Index\")\n",
    "\t\treturn\n",
    "\tfor i, t in enumerate(tasks):\n",
    "\t\tif i == idx:\n",
    "\t\t\ttasks.remove(t)\n",
    "\t\t\tbreak\n",
    "printMenu = True\n",
    "while True:\n",
    "\tif printMenu:\n",
    "\t\tprint(\"____________________________________\")\n",
    "\t\tprint(\"TODO List manager\")\n",
    "\t\tprint(\"\\n1. Add Item\\n2. Delete Item\\n3. View Items\\n4. Quit\\n5. Print menu\")\n",
    "\t\tprint(\"____________________________________\")\n",
    "\t\tprint(\"\\nSelect an option\\n\")\n",
    "\t\tprintMenu = False\n",
    "\n",
    "\toption = input(\"Please enter an option\")\n",
    "\n",
    "\tif option == \"4\":\n",
    "\t\tprint(\"\\nBye 👋\")\n",
    "\t\tbreak\n",
    "\telif option == \"1\":\n",
    "\t\tprint(\"Please type a task\")\n",
    "\t\ttask = input()\n",
    "\t\tif not task:\n",
    "\t\t\tprint(\"Please enter a valid task\")\n",
    "\t\telse:\n",
    "\t\t\taddTask(task)\n",
    "\t\t\tprint(\"TODO Item added to list\")\n",
    "\telif option == \"2\":\n",
    "\t\tidx = input(\"Please enter the index of the task you want to delete\")\n",
    "\t\tif not idx.isdecimal():\n",
    "\t\t\tprint(f\"Enter a valid number ranging from 0 to {len(tasks) - 1}\")\n",
    "\t\telse:\n",
    "\t\t\tdeleteTask(int(idx))\n",
    "\telif option == \"3\":\n",
    "\t\tviewTasks()\n",
    "\telif option == \"5\":\n",
    "\t\tprintMenu = True\n",
    "\telse:\n",
    "\t\tprint(\"Invalid input. Please try again\")"
   ]
  }
 ],
 "metadata": {
  "kernelspec": {
   "display_name": "Python 3",
   "language": "python",
   "name": "python3"
  },
  "language_info": {
   "codemirror_mode": {
    "name": "ipython",
    "version": 3
   },
   "file_extension": ".py",
   "mimetype": "text/x-python",
   "name": "python",
   "nbconvert_exporter": "python",
   "pygments_lexer": "ipython3",
   "version": "3.12.6"
  }
 },
 "nbformat": 4,
 "nbformat_minor": 2
}
