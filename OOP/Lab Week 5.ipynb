{
 "cells": [
  {
   "cell_type": "markdown",
   "metadata": {},
   "source": [
    "# Week 5 Practical Exercises\n",
    "\n",
    "By Prajwal Aradhya\n",
    "\n",
    "B01759301"
   ]
  },
  {
   "cell_type": "code",
   "execution_count": 18,
   "metadata": {},
   "outputs": [
    {
     "name": "stdout",
     "output_type": "stream",
     "text": [
      "The vehicle is moving at 80 km/h\n",
      "The electric car is moving at 95km/h\n",
      "The car is driving at 220 km/h\n",
      "Total fuel capacity 45 ltrs\n",
      "Total seats of petrol car is 4\n"
     ]
    }
   ],
   "source": [
    "# Base class\n",
    "class Vehicle:\n",
    "\tdef __init__(self, colour: str, weight: int, max_speed: int, max_range: int | None = None, seats: int | None = None):\n",
    "\t\tself.colour = colour\n",
    "\t\tself.weight = weight\n",
    "\t\tself.max_speed = max_speed\n",
    "\t\tself.max_range = max_range\n",
    "\t\tself.seats = seats\n",
    "\n",
    "\tdef move(self, speed: int):\n",
    "\t\tprint(f\"The vehicle is moving at {speed} km/h\")\n",
    "\n",
    "\tdef get_total_seats(self):\n",
    "\t\tif self.seats:\n",
    "\t\t\treturn self.seats\n",
    "\t\treturn 0\n",
    "\n",
    "# Child class. Car is inherited by Vehicle \n",
    "class Car(Vehicle):\n",
    "\tdef __init__(self, colour: str, weight: int, max_speed: int, car_type: str, max_range = None, seats = None):\n",
    "\t\tsuper().__init__(colour, weight, max_speed, max_range, seats) # parent class constructor\n",
    "\t\tself.seats = seats\n",
    "\n",
    "\tdef move(self, speed: int):\n",
    "\t\tprint(f\"The car is driving at {speed} km/h\")\n",
    "\n",
    "# creating an object from class\n",
    "vehicle = Vehicle(\"green\", 1500, 120)\n",
    "vehicle.move(80) # calling a function associated with class\n",
    "\n",
    "class Electric(Car):\n",
    "\tdef __init__(self, colour: str, weight: int, max_speed: int, car_type: str, battery_capacity: int, **kwargs):\n",
    "\t\tsuper().__init__(colour, weight, max_speed, car_type, **kwargs)\n",
    "\t\tself.battery_capacity = battery_capacity\n",
    "\n",
    "\tdef move(self, speed: int):\n",
    "\t\tprint(f\"The electric car is moving at {speed}km/h\")\n",
    "\t\n",
    "\tdef get_battery_percentage(self) :\n",
    "\t\treturn f\"{self.battery_capacity}%\"\n",
    "\t\n",
    "\tdef is_battery_empty(self):\n",
    "\t\treturn self.battery_capacity == 0\n",
    "\n",
    "\n",
    "class Petrol(Car):\n",
    "\tdef __init__(self, colour: str, weight: int, max_speed: int, car_type: str, fuel_capacity: int, **kwargs):\n",
    "\t\tsuper().__init__(colour, weight, max_speed, car_type, **kwargs)\n",
    "\t\tself.fuel_capacity = fuel_capacity\n",
    "\t\n",
    "\tdef get_fuel_capacity(self):\n",
    "\t\treturn self.fuel_capacity\n",
    "\n",
    "electric_car = Electric(\"yellow\", 1200, 180, \"Sedan\", 1500, max_range=330, seats=4)\n",
    "electric_car.move(95)\n",
    "\n",
    "petrol_car = Petrol(\"green\", 1800, 270, \"SUV\", 45, max_range=845, seats=4)\n",
    "petrol_car.move(220)\n",
    "\n",
    "print(f\"Total fuel capacity {petrol_car.fuel_capacity} ltrs\")\n",
    "print(f\"Total seats of petrol car is {petrol_car.get_total_seats()}\")"
   ]
  },
  {
   "cell_type": "markdown",
   "metadata": {},
   "source": [
    "### Multiple Inheritance"
   ]
  },
  {
   "cell_type": "code",
   "execution_count": 19,
   "metadata": {},
   "outputs": [
    {
     "name": "stdout",
     "output_type": "stream",
     "text": [
      "Frog is swimming under water with 2 fins\n",
      "Frog is walking on the ground with 4 legs\n",
      "Frog is jumping on the ground with 4 limbs\n"
     ]
    }
   ],
   "source": [
    "class Aquatic:\n",
    "\tdef __init__(self, name: str, fins: int):\n",
    "\t\tself.name = name\n",
    "\t\tself.fins = fins\n",
    "\t\tself.type = \"Aquatic\"\n",
    "\n",
    "\tdef swim(self):\n",
    "\t\tprint(f\"{self.name} is swimming under water with {self.fins} fins\")\n",
    "\n",
    "class Reptile:\n",
    "\tdef __init__(self, name: str, limbs: int):\n",
    "\t\tself.name = name\n",
    "\t\tself.limbs = limbs\n",
    "\t\n",
    "\tdef walk(self):\n",
    "\t\tprint(f\"{self.name} is walking on the ground with {self.limbs} legs\")\n",
    "\n",
    "# Frog inherited both aquatic and reptile\n",
    "class Frog(Aquatic, Reptile):\n",
    "\tdef __init__(self):\n",
    "\t\t# passing name as frog\n",
    "\t\tAquatic.__init__(self, \"Frog\", 2)\n",
    "\t\tReptile.__init__(self, \"Frog\", 4)\n",
    "\t\n",
    "\tdef jump(self):\n",
    "\t\tprint(f\"{self.name} is jumping on the ground with {self.limbs} limbs\")\n",
    "\n",
    "frog1 = Frog() \n",
    "\n",
    "frog1.swim() # this method is from Aquatic class\n",
    "frog1.walk() # this method is from Reptile class\n",
    "frog1.jump() # this method is from Frog class"
   ]
  }
 ],
 "metadata": {
  "kernelspec": {
   "display_name": "Python 3",
   "language": "python",
   "name": "python3"
  },
  "language_info": {
   "codemirror_mode": {
    "name": "ipython",
    "version": 3
   },
   "file_extension": ".py",
   "mimetype": "text/x-python",
   "name": "python",
   "nbconvert_exporter": "python",
   "pygments_lexer": "ipython3",
   "version": "3.12.6"
  }
 },
 "nbformat": 4,
 "nbformat_minor": 2
}
